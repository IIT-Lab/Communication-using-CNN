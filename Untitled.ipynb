{
 "cells": [
  {
   "cell_type": "code",
   "execution_count": 1,
   "metadata": {},
   "outputs": [
    {
     "name": "stdout",
     "output_type": "stream",
     "text": [
      "Importing packages...\n"
     ]
    }
   ],
   "source": [
    "print('Importing packages...')\n",
    "from datetime import datetime\n",
    "import numpy as np\n",
    "import pandas as pd\n",
    "from sklearn.metrics import accuracy_score\n",
    "from sklearn.metrics import auc\n",
    "from sklearn.metrics import roc_auc_score\n",
    "from sklearn.model_selection import train_test_split"
   ]
  },
  {
   "cell_type": "code",
   "execution_count": 2,
   "metadata": {},
   "outputs": [
    {
     "name": "stdout",
     "output_type": "stream",
     "text": [
      "Importing models from scikit learn module..\n"
     ]
    },
    {
     "name": "stderr",
     "output_type": "stream",
     "text": [
      "C:\\Users\\Admin\\Anaconda2\\lib\\site-packages\\sklearn\\cross_validation.py:41: DeprecationWarning: This module was deprecated in version 0.18 in favor of the model_selection module into which all the refactored classes and functions are moved. Also note that the interface of the new CV iterators are different from that of this module. This module will be removed in 0.20.\n",
      "  \"This module will be removed in 0.20.\", DeprecationWarning)\n"
     ]
    }
   ],
   "source": [
    "print('Importing models from scikit learn module..')\n",
    "from sklearn.linear_model import LogisticRegression,LinearRegression\n",
    "from sklearn.cross_validation import KFold   \n",
    "from sklearn.ensemble import RandomForestClassifier\n",
    "from sklearn.tree import DecisionTreeClassifier, export_graphviz\n",
    "from sklearn import metrics\n",
    "from sklearn import svm"
   ]
  },
  {
   "cell_type": "code",
   "execution_count": 3,
   "metadata": {},
   "outputs": [
    {
     "name": "stdout",
     "output_type": "stream",
     "text": [
      "Reading data...\n"
     ]
    }
   ],
   "source": [
    "print('Reading data...')\n",
    "dfTrain = pd.read_excel('training.xlsx')\n",
    "dfTest = pd.read_excel('output.xlsx')"
   ]
  },
  {
   "cell_type": "code",
   "execution_count": 4,
   "metadata": {
    "collapsed": true
   },
   "outputs": [],
   "source": [
    "train_cols=['Rn']\n",
    "train_target = pd.DataFrame(dfTrain['un'])"
   ]
  },
  {
   "cell_type": "code",
   "execution_count": 5,
   "metadata": {
    "collapsed": true
   },
   "outputs": [],
   "source": [
    "finalTrain=dfTrain[train_cols];"
   ]
  },
  {
   "cell_type": "code",
   "execution_count": 6,
   "metadata": {
    "collapsed": true
   },
   "outputs": [],
   "source": [
    "X_train, X_test, y_train, y_test = train_test_split(np.array(finalTrain), np.array(train_target), test_size=0.30,random_state=59)"
   ]
  },
  {
   "cell_type": "code",
   "execution_count": 7,
   "metadata": {
    "collapsed": true
   },
   "outputs": [],
   "source": [
    "from sklearn import svm  # svm classifier"
   ]
  },
  {
   "cell_type": "code",
   "execution_count": 13,
   "metadata": {
    "collapsed": true
   },
   "outputs": [],
   "source": [
    "svm_clf_degree3 = svm.SVC(kernel='poly',degree=3)"
   ]
  },
  {
   "cell_type": "code",
   "execution_count": 14,
   "metadata": {},
   "outputs": [
    {
     "data": {
      "text/plain": [
       "SVC(C=1.0, cache_size=200, class_weight=None, coef0=0.0,\n",
       "  decision_function_shape='ovr', degree=3, gamma='auto', kernel='poly',\n",
       "  max_iter=-1, probability=False, random_state=None, shrinking=True,\n",
       "  tol=0.001, verbose=False)"
      ]
     },
     "execution_count": 14,
     "metadata": {},
     "output_type": "execute_result"
    }
   ],
   "source": [
    "svm_clf_degree3.fit(X_train,y_train)"
   ]
  },
  {
   "cell_type": "code",
   "execution_count": 16,
   "metadata": {},
   "outputs": [],
   "source": [
    "pred=svm_clf_degree3.predict(X_test)"
   ]
  },
  {
   "cell_type": "code",
   "execution_count": 17,
   "metadata": {},
   "outputs": [
    {
     "name": "stdout",
     "output_type": "stream",
     "text": [
      "Accuracy of svm classifier on test set:\n",
      "0.556666666667\n"
     ]
    }
   ],
   "source": [
    "print('Accuracy of svm classifier on test set:')\n",
    "print(svm_clf_degree3.score(X_test, y_test))"
   ]
  },
  {
   "cell_type": "code",
   "execution_count": 35,
   "metadata": {
    "collapsed": true
   },
   "outputs": [],
   "source": [
    "test_cols=['Rn']"
   ]
  },
  {
   "cell_type": "code",
   "execution_count": 19,
   "metadata": {
    "collapsed": true
   },
   "outputs": [],
   "source": [
    "svm_clf_degree2 = svm.SVC(kernel='poly',degree=2)"
   ]
  },
  {
   "cell_type": "code",
   "execution_count": 20,
   "metadata": {},
   "outputs": [
    {
     "data": {
      "text/plain": [
       "SVC(C=1.0, cache_size=200, class_weight=None, coef0=0.0,\n",
       "  decision_function_shape='ovr', degree=2, gamma='auto', kernel='poly',\n",
       "  max_iter=-1, probability=False, random_state=None, shrinking=True,\n",
       "  tol=0.001, verbose=False)"
      ]
     },
     "execution_count": 20,
     "metadata": {},
     "output_type": "execute_result"
    }
   ],
   "source": [
    "svm_clf_degree2.fit(X_train,y_train)"
   ]
  },
  {
   "cell_type": "code",
   "execution_count": 22,
   "metadata": {},
   "outputs": [],
   "source": [
    "pred=svm_clf_degree2.predict(X_test)"
   ]
  },
  {
   "cell_type": "code",
   "execution_count": 23,
   "metadata": {},
   "outputs": [
    {
     "name": "stdout",
     "output_type": "stream",
     "text": [
      "Accuracy of svm classifier on test set:\n",
      "0.489666666667\n"
     ]
    }
   ],
   "source": [
    "print('Accuracy of svm classifier on test set:')\n",
    "print(svm_clf_degree2.score(X_test, y_test))"
   ]
  },
  {
   "cell_type": "code",
   "execution_count": 25,
   "metadata": {
    "collapsed": true
   },
   "outputs": [],
   "source": [
    "svm_clf_degree1 = svm.SVC(kernel='poly',degree=1)"
   ]
  },
  {
   "cell_type": "code",
   "execution_count": 26,
   "metadata": {},
   "outputs": [
    {
     "data": {
      "text/plain": [
       "SVC(C=1.0, cache_size=200, class_weight=None, coef0=0.0,\n",
       "  decision_function_shape='ovr', degree=1, gamma='auto', kernel='poly',\n",
       "  max_iter=-1, probability=False, random_state=None, shrinking=True,\n",
       "  tol=0.001, verbose=False)"
      ]
     },
     "execution_count": 26,
     "metadata": {},
     "output_type": "execute_result"
    }
   ],
   "source": [
    "svm_clf_degree1.fit(X_train,y_train)"
   ]
  },
  {
   "cell_type": "code",
   "execution_count": 27,
   "metadata": {
    "collapsed": true
   },
   "outputs": [],
   "source": [
    "pred=svm_clf_degree1.predict(X_test)"
   ]
  },
  {
   "cell_type": "code",
   "execution_count": 28,
   "metadata": {},
   "outputs": [
    {
     "name": "stdout",
     "output_type": "stream",
     "text": [
      "Accuracy of svm classifier on test set:\n",
      "0.508\n"
     ]
    }
   ],
   "source": [
    "print('Accuracy of svm classifier on test set:')\n",
    "print(svm_clf_degree1.score(X_test, y_test))"
   ]
  },
  {
   "cell_type": "code",
   "execution_count": 29,
   "metadata": {},
   "outputs": [
    {
     "data": {
      "text/html": [
       "<div>\n",
       "<style>\n",
       "    .dataframe thead tr:only-child th {\n",
       "        text-align: right;\n",
       "    }\n",
       "\n",
       "    .dataframe thead th {\n",
       "        text-align: left;\n",
       "    }\n",
       "\n",
       "    .dataframe tbody tr th {\n",
       "        vertical-align: top;\n",
       "    }\n",
       "</style>\n",
       "<table border=\"1\" class=\"dataframe\">\n",
       "  <thead>\n",
       "    <tr style=\"text-align: right;\">\n",
       "      <th></th>\n",
       "      <th>un_original</th>\n",
       "      <th>un-1_original</th>\n",
       "      <th>_original</th>\n",
       "      <th>an_original</th>\n",
       "      <th>noise_original</th>\n",
       "      <th>Rn</th>\n",
       "    </tr>\n",
       "  </thead>\n",
       "  <tbody>\n",
       "    <tr>\n",
       "      <th>0</th>\n",
       "      <td>1</td>\n",
       "      <td>1</td>\n",
       "      <td>1.5</td>\n",
       "      <td>-1.5375</td>\n",
       "      <td>-0.059918</td>\n",
       "      <td>-1.597418</td>\n",
       "    </tr>\n",
       "    <tr>\n",
       "      <th>1</th>\n",
       "      <td>1</td>\n",
       "      <td>1</td>\n",
       "      <td>1.5</td>\n",
       "      <td>-1.5375</td>\n",
       "      <td>0.095018</td>\n",
       "      <td>-1.442482</td>\n",
       "    </tr>\n",
       "    <tr>\n",
       "      <th>2</th>\n",
       "      <td>1</td>\n",
       "      <td>1</td>\n",
       "      <td>1.5</td>\n",
       "      <td>-1.5375</td>\n",
       "      <td>-0.129054</td>\n",
       "      <td>-1.666554</td>\n",
       "    </tr>\n",
       "    <tr>\n",
       "      <th>3</th>\n",
       "      <td>1</td>\n",
       "      <td>1</td>\n",
       "      <td>1.5</td>\n",
       "      <td>-1.5375</td>\n",
       "      <td>0.113154</td>\n",
       "      <td>-1.424346</td>\n",
       "    </tr>\n",
       "    <tr>\n",
       "      <th>4</th>\n",
       "      <td>1</td>\n",
       "      <td>1</td>\n",
       "      <td>1.5</td>\n",
       "      <td>-1.5375</td>\n",
       "      <td>-0.031022</td>\n",
       "      <td>-1.568522</td>\n",
       "    </tr>\n",
       "  </tbody>\n",
       "</table>\n",
       "</div>"
      ],
      "text/plain": [
       "   un_original  un-1_original  _original  an_original  noise_original  \\\n",
       "0            1              1        1.5      -1.5375       -0.059918   \n",
       "1            1              1        1.5      -1.5375        0.095018   \n",
       "2            1              1        1.5      -1.5375       -0.129054   \n",
       "3            1              1        1.5      -1.5375        0.113154   \n",
       "4            1              1        1.5      -1.5375       -0.031022   \n",
       "\n",
       "         Rn  \n",
       "0 -1.597418  \n",
       "1 -1.442482  \n",
       "2 -1.666554  \n",
       "3 -1.424346  \n",
       "4 -1.568522  "
      ]
     },
     "execution_count": 29,
     "metadata": {},
     "output_type": "execute_result"
    }
   ],
   "source": [
    "dfTest.head()"
   ]
  },
  {
   "cell_type": "code",
   "execution_count": 30,
   "metadata": {
    "collapsed": true
   },
   "outputs": [],
   "source": [
    "test_cols=['Rn']"
   ]
  },
  {
   "cell_type": "code",
   "execution_count": 31,
   "metadata": {
    "collapsed": true
   },
   "outputs": [],
   "source": [
    "final_test=dfTest[test_cols]"
   ]
  },
  {
   "cell_type": "code",
   "execution_count": 40,
   "metadata": {},
   "outputs": [],
   "source": [
    "P1=svm_clf_degree1.predict(final_test) # using the SVM Degree 1 classifier for predictions"
   ]
  },
  {
   "cell_type": "code",
   "execution_count": 42,
   "metadata": {},
   "outputs": [],
   "source": [
    "import numpy as np\n",
    "a = P1"
   ]
  },
  {
   "cell_type": "code",
   "execution_count": 59,
   "metadata": {},
   "outputs": [
    {
     "name": "stdout",
     "output_type": "stream",
     "text": [
      "[ 1  1  1  1  1  1 -1  1  1 -1 -1  1 -1  1  1  1  1 -1 -1 -1 -1  1  1 -1 -1\n",
      "  1 -1 -1  1  1 -1  1 -1  1  1  1  1  1  1 -1 -1 -1  1 -1  1 -1  1 -1 -1 -1\n",
      " -1 -1 -1 -1 -1 -1  1  1  1  1  1  1 -1  1 -1  1 -1 -1  1  1  1  1  1 -1 -1\n",
      "  1 -1 -1 -1 -1  1 -1  1  1  1 -1 -1  1 -1  1  1 -1  1 -1 -1 -1 -1  1  1 -1\n",
      " -1 -1 -1  1 -1 -1  1  1 -1 -1  1 -1  1 -1  1  1  1  1 -1  1 -1 -1  1  1  1\n",
      "  1  1 -1  1 -1  1 -1  1  1 -1  1  1 -1 -1  1 -1  1 -1 -1 -1  1 -1  1  1 -1\n",
      " -1 -1  1  1 -1  1  1  1 -1  1  1 -1  1  1  1 -1  1 -1 -1  1 -1  1 -1  1 -1\n",
      "  1  1 -1 -1  1 -1 -1 -1  1  1 -1  1 -1  1  1 -1 -1  1  1  1  1 -1  1 -1 -1\n",
      "  1  1 -1 -1 -1 -1 -1  1  1 -1  1  1  1  1 -1 -1 -1  1  1 -1 -1 -1  1  1  1\n",
      "  1  1  1 -1 -1 -1  1 -1  1 -1 -1 -1 -1 -1 -1 -1  1 -1  1  1 -1 -1  1  1  1\n",
      "  1 -1  1  1  1  1  1  1 -1 -1 -1  1  1 -1 -1 -1  1 -1 -1  1 -1  1 -1 -1 -1\n",
      " -1  1  1  1  1  1 -1 -1 -1  1 -1  1  1 -1  1 -1  1 -1 -1 -1 -1 -1  1  1  1\n",
      "  1  1 -1 -1 -1 -1  1  1 -1 -1  1 -1 -1 -1 -1  1 -1 -1  1  1 -1  1 -1  1  1\n",
      "  1  1 -1 -1  1  1  1  1  1 -1  1  1  1  1 -1 -1 -1 -1  1 -1  1 -1  1 -1 -1\n",
      "  1 -1 -1  1 -1 -1  1 -1 -1  1  1 -1  1  1 -1  1 -1  1  1 -1 -1  1 -1  1  1\n",
      " -1 -1 -1 -1  1 -1 -1  1 -1  1 -1  1 -1 -1 -1  1  1 -1  1  1 -1 -1  1  1 -1\n",
      " -1  1  1 -1  1  1 -1 -1  1  1  1  1  1  1  1  1 -1 -1 -1  1  1 -1 -1  1 -1\n",
      "  1 -1 -1  1  1 -1 -1  1  1  1  1  1 -1 -1 -1 -1  1  1  1  1  1 -1 -1 -1 -1\n",
      " -1 -1  1  1 -1 -1  1  1  1 -1 -1 -1  1  1  1 -1  1  1 -1 -1  1 -1  1 -1 -1\n",
      " -1  1 -1 -1  1 -1 -1 -1 -1 -1  1  1 -1  1 -1 -1 -1 -1  1 -1  1 -1 -1  1 -1\n",
      " -1]\n"
     ]
    }
   ],
   "source": [
    "print(a)"
   ]
  },
  {
   "cell_type": "code",
   "execution_count": 60,
   "metadata": {},
   "outputs": [],
   "source": [
    "dfTest['Prediction_degree1']=P1"
   ]
  },
  {
   "cell_type": "code",
   "execution_count": 61,
   "metadata": {
    "collapsed": true
   },
   "outputs": [],
   "source": [
    "writer=pd.ExcelWriter('predictions.xlsx',engine='xlsxwriter')"
   ]
  },
  {
   "cell_type": "code",
   "execution_count": 62,
   "metadata": {
    "collapsed": true
   },
   "outputs": [],
   "source": [
    "dfTest.to_excel(writer,'Sheet1')"
   ]
  },
  {
   "cell_type": "code",
   "execution_count": 63,
   "metadata": {},
   "outputs": [],
   "source": [
    "writer.save()"
   ]
  },
  {
   "cell_type": "code",
   "execution_count": 49,
   "metadata": {},
   "outputs": [
    {
     "data": {
      "text/plain": [
       "SVC(C=1.0, cache_size=200, class_weight=None, coef0=0.0,\n",
       "  decision_function_shape='ovr', degree=1, gamma='auto', kernel='poly',\n",
       "  max_iter=-1, probability=False, random_state=None, shrinking=True,\n",
       "  tol=0.001, verbose=False)"
      ]
     },
     "execution_count": 49,
     "metadata": {},
     "output_type": "execute_result"
    }
   ],
   "source": [
    "svm_clf_degree2.fit(X_train,y_train)"
   ]
  },
  {
   "cell_type": "code",
   "execution_count": 50,
   "metadata": {
    "collapsed": true
   },
   "outputs": [],
   "source": [
    "P2=svm_clf_degree2.predict(final_test) # using the SVM Degree 2 classifier for predictions"
   ]
  },
  {
   "cell_type": "code",
   "execution_count": 52,
   "metadata": {
    "collapsed": true
   },
   "outputs": [],
   "source": [
    "import numpy as np\n",
    "a = P2"
   ]
  },
  {
   "cell_type": "code",
   "execution_count": 53,
   "metadata": {},
   "outputs": [
    {
     "name": "stdout",
     "output_type": "stream",
     "text": [
      "[ 1  1  1  1  1  1 -1  1  1 -1 -1  1 -1  1  1  1  1 -1 -1 -1 -1  1  1 -1 -1\n",
      "  1 -1 -1  1  1 -1  1 -1  1  1  1  1  1  1 -1 -1 -1  1 -1  1 -1  1 -1 -1 -1\n",
      " -1 -1 -1 -1 -1 -1  1  1  1  1  1  1 -1  1 -1  1 -1 -1  1  1  1  1  1 -1 -1\n",
      "  1 -1 -1 -1 -1  1 -1  1  1  1 -1 -1  1 -1  1  1 -1  1 -1 -1 -1 -1  1  1 -1\n",
      " -1 -1 -1  1 -1 -1  1  1 -1 -1  1 -1  1 -1  1  1  1  1 -1  1 -1 -1  1  1  1\n",
      "  1  1 -1  1 -1  1 -1  1  1 -1  1  1 -1 -1  1 -1  1 -1 -1 -1  1 -1  1  1 -1\n",
      " -1 -1  1  1 -1  1  1  1 -1  1  1 -1  1  1  1 -1  1 -1 -1  1 -1  1 -1  1 -1\n",
      "  1  1 -1 -1  1 -1 -1 -1  1  1 -1  1 -1  1  1 -1 -1  1  1  1  1 -1  1 -1 -1\n",
      "  1  1 -1 -1 -1 -1 -1  1  1 -1  1  1  1  1 -1 -1 -1  1  1 -1 -1 -1  1  1  1\n",
      "  1  1  1 -1 -1 -1  1 -1  1 -1 -1 -1 -1 -1 -1 -1  1 -1  1  1 -1 -1  1  1  1\n",
      "  1 -1  1  1  1  1  1  1 -1 -1 -1  1  1 -1 -1 -1  1 -1 -1  1 -1  1 -1 -1 -1\n",
      " -1  1  1  1  1  1 -1 -1 -1  1 -1  1  1 -1  1 -1  1 -1 -1 -1 -1 -1  1  1  1\n",
      "  1  1 -1 -1 -1 -1  1  1 -1 -1  1 -1 -1 -1 -1  1 -1 -1  1  1 -1  1 -1  1  1\n",
      "  1  1 -1 -1  1  1  1  1  1 -1  1  1  1  1 -1 -1 -1 -1  1 -1  1 -1  1 -1 -1\n",
      "  1 -1 -1  1 -1 -1  1 -1 -1  1  1 -1  1  1 -1  1 -1  1  1 -1 -1  1 -1  1  1\n",
      " -1 -1 -1 -1  1 -1 -1  1 -1  1 -1  1 -1 -1 -1  1  1 -1  1  1 -1 -1  1  1 -1\n",
      " -1  1  1 -1  1  1 -1 -1  1  1  1  1  1  1  1  1 -1 -1 -1  1  1 -1 -1  1 -1\n",
      "  1 -1 -1  1  1 -1 -1  1  1  1  1  1 -1 -1 -1 -1  1  1  1  1  1 -1 -1 -1 -1\n",
      " -1 -1  1  1 -1 -1  1  1  1 -1 -1 -1  1  1  1 -1  1  1 -1 -1  1 -1  1 -1 -1\n",
      " -1  1 -1 -1  1 -1 -1 -1 -1 -1  1  1 -1  1 -1 -1 -1 -1  1 -1  1 -1 -1  1 -1\n",
      " -1]\n"
     ]
    }
   ],
   "source": [
    "print(a)"
   ]
  },
  {
   "cell_type": "code",
   "execution_count": null,
   "metadata": {
    "collapsed": true
   },
   "outputs": [],
   "source": []
  }
 ],
 "metadata": {
  "kernelspec": {
   "display_name": "Python 2",
   "language": "python",
   "name": "python2"
  },
  "language_info": {
   "codemirror_mode": {
    "name": "ipython",
    "version": 2
   },
   "file_extension": ".py",
   "mimetype": "text/x-python",
   "name": "python",
   "nbconvert_exporter": "python",
   "pygments_lexer": "ipython2",
   "version": "2.7.13"
  }
 },
 "nbformat": 4,
 "nbformat_minor": 2
}
