{
 "cells": [
  {
   "cell_type": "code",
   "execution_count": 1,
   "metadata": {},
   "outputs": [
    {
     "name": "stdout",
     "output_type": "stream",
     "text": [
      "Importing packages...\n"
     ]
    }
   ],
   "source": [
    "print('Importing packages...')\n",
    "from datetime import datetime\n",
    "import numpy as np\n",
    "import pandas as pd\n",
    "from sklearn.metrics import accuracy_score\n",
    "from sklearn.metrics import auc\n",
    "from sklearn.metrics import roc_auc_score\n",
    "from sklearn.model_selection import train_test_split"
   ]
  },
  {
   "cell_type": "code",
   "execution_count": 6,
   "metadata": {},
   "outputs": [
    {
     "name": "stdout",
     "output_type": "stream",
     "text": [
      "Importing models from scikit learn module..\n"
     ]
    }
   ],
   "source": [
    "print('Importing models from scikit learn module..')\n",
    "from sklearn.linear_model import LogisticRegression,LinearRegression\n",
    "from sklearn.cross_validation import KFold   \n",
    "from sklearn.ensemble import RandomForestClassifier\n",
    "from sklearn.tree import DecisionTreeClassifier, export_graphviz\n",
    "from sklearn import metrics\n",
    "from sklearn import svm"
   ]
  },
  {
   "cell_type": "code",
   "execution_count": 3,
   "metadata": {},
   "outputs": [
    {
     "name": "stdout",
     "output_type": "stream",
     "text": [
      "Reading data...\n"
     ]
    }
   ],
   "source": [
    "print('Reading data...')\n",
    "dfTrain = pd.read_excel('training.xlsx')\n",
    "dfTest = pd.read_excel('output.xlsx')"
   ]
  },
  {
   "cell_type": "code",
   "execution_count": 4,
   "metadata": {
    "collapsed": true
   },
   "outputs": [],
   "source": [
    "train_cols=['Rn']\n",
    "train_target = pd.DataFrame(dfTrain['un'])"
   ]
  },
  {
   "cell_type": "code",
   "execution_count": 5,
   "metadata": {
    "collapsed": true
   },
   "outputs": [],
   "source": [
    "finalTrain=dfTrain[train_cols];"
   ]
  },
  {
   "cell_type": "code",
   "execution_count": 7,
   "metadata": {
    "collapsed": true
   },
   "outputs": [],
   "source": [
    "X_train, X_test, y_train, y_test = train_test_split(np.array(finalTrain), np.array(train_target), test_size=0.30,random_state=59)"
   ]
  },
  {
   "cell_type": "code",
   "execution_count": 8,
   "metadata": {
    "collapsed": true
   },
   "outputs": [],
   "source": [
    "from sklearn import svm  # svm classifier"
   ]
  },
  {
   "cell_type": "code",
   "execution_count": 9,
   "metadata": {
    "collapsed": true
   },
   "outputs": [],
   "source": [
    "svm_clf_degree3 = svm.SVC(kernel='poly',degree=3)"
   ]
  },
  {
   "cell_type": "code",
   "execution_count": 10,
   "metadata": {},
   "outputs": [
    {
     "name": "stderr",
     "output_type": "stream",
     "text": [
      "C:\\Users\\Admin\\Anaconda2\\lib\\site-packages\\sklearn\\utils\\validation.py:547: DataConversionWarning: A column-vector y was passed when a 1d array was expected. Please change the shape of y to (n_samples, ), for example using ravel().\n",
      "  y = column_or_1d(y, warn=True)\n"
     ]
    },
    {
     "data": {
      "text/plain": [
       "SVC(C=1.0, cache_size=200, class_weight=None, coef0=0.0,\n",
       "  decision_function_shape='ovr', degree=3, gamma='auto', kernel='poly',\n",
       "  max_iter=-1, probability=False, random_state=None, shrinking=True,\n",
       "  tol=0.001, verbose=False)"
      ]
     },
     "execution_count": 10,
     "metadata": {},
     "output_type": "execute_result"
    }
   ],
   "source": [
    "svm_clf_degree3.fit(X_train,y_train)"
   ]
  },
  {
   "cell_type": "code",
   "execution_count": 11,
   "metadata": {
    "collapsed": true
   },
   "outputs": [],
   "source": [
    "pred=svm_clf_degree3.predict(X_test)"
   ]
  },
  {
   "cell_type": "code",
   "execution_count": 12,
   "metadata": {},
   "outputs": [
    {
     "name": "stdout",
     "output_type": "stream",
     "text": [
      "Accuracy of svm classifier on test set:\n",
      "0.556666666667\n"
     ]
    }
   ],
   "source": [
    "print('Accuracy of svm classifier on test set:')\n",
    "print(svm_clf_degree3.score(X_test, y_test))"
   ]
  },
  {
   "cell_type": "code",
   "execution_count": 13,
   "metadata": {
    "collapsed": true
   },
   "outputs": [],
   "source": [
    "test_cols=['Rn']"
   ]
  },
  {
   "cell_type": "code",
   "execution_count": 14,
   "metadata": {
    "collapsed": true
   },
   "outputs": [],
   "source": [
    "final_test=dfTest[test_cols]"
   ]
  },
  {
   "cell_type": "code",
   "execution_count": 16,
   "metadata": {},
   "outputs": [],
   "source": [
    "P3=svm_clf_degree3.predict(final_test) # using the SVM Degree 3 classifier for predictions"
   ]
  },
  {
   "cell_type": "code",
   "execution_count": 38,
   "metadata": {},
   "outputs": [
    {
     "name": "stdout",
     "output_type": "stream",
     "text": [
      "[ 1  1  1  1  1  1 -1  1  1 -1 -1  1 -1  1  1  1 -1 -1 -1 -1 -1  1 -1 -1 -1\n",
      " -1 -1 -1 -1 -1 -1  1 -1  1  1  1  1  1 -1 -1 -1 -1  1 -1  1 -1  1 -1 -1 -1\n",
      " -1 -1 -1 -1 -1 -1  1  1  1  1  1  1 -1  1 -1 -1 -1 -1  1  1  1  1  1 -1 -1\n",
      "  1 -1 -1 -1 -1  1 -1  1  1 -1 -1 -1  1 -1  1  1 -1  1 -1 -1 -1 -1  1  1 -1\n",
      " -1 -1 -1 -1 -1 -1  1 -1 -1 -1  1 -1  1 -1  1  1  1  1 -1  1 -1 -1  1  1  1\n",
      "  1  1 -1  1 -1  1 -1  1  1 -1  1  1 -1 -1  1 -1  1 -1 -1 -1  1 -1  1  1 -1\n",
      " -1 -1  1 -1 -1  1  1 -1 -1  1  1 -1  1  1  1 -1  1 -1 -1 -1 -1  1 -1  1 -1\n",
      "  1  1 -1 -1 -1 -1 -1 -1  1  1 -1 -1 -1  1  1 -1 -1  1  1  1  1 -1  1 -1 -1\n",
      "  1 -1 -1 -1 -1 -1 -1  1  1 -1  1  1  1 -1 -1 -1 -1  1 -1 -1 -1 -1  1  1  1\n",
      "  1  1  1 -1 -1 -1  1 -1  1 -1 -1 -1 -1 -1 -1 -1  1 -1  1  1 -1 -1  1  1  1\n",
      " -1 -1  1  1  1  1 -1 -1 -1 -1 -1 -1  1 -1 -1 -1  1 -1 -1  1 -1  1 -1 -1 -1\n",
      " -1  1  1  1  1  1 -1 -1 -1  1 -1  1  1 -1  1 -1  1 -1 -1 -1 -1 -1  1  1  1\n",
      "  1  1 -1 -1 -1 -1  1  1 -1 -1  1 -1 -1 -1 -1 -1 -1 -1  1  1 -1  1 -1  1  1\n",
      "  1  1 -1 -1  1  1  1  1  1 -1  1  1  1 -1 -1 -1 -1 -1 -1 -1  1 -1 -1 -1 -1\n",
      "  1 -1 -1 -1 -1 -1  1 -1 -1  1  1 -1  1 -1 -1  1 -1  1 -1 -1 -1  1 -1  1  1\n",
      " -1 -1 -1 -1 -1 -1 -1 -1 -1  1 -1  1 -1 -1 -1  1  1 -1  1  1 -1 -1  1 -1 -1\n",
      " -1  1  1 -1  1  1 -1 -1  1  1  1  1  1  1  1  1 -1 -1 -1  1  1 -1 -1 -1 -1\n",
      " -1 -1 -1  1  1 -1 -1  1  1  1  1  1 -1 -1 -1 -1  1  1  1  1  1 -1 -1 -1 -1\n",
      " -1 -1  1  1 -1 -1  1  1  1 -1 -1 -1  1  1  1 -1  1  1 -1 -1  1 -1  1 -1 -1\n",
      " -1  1 -1 -1  1 -1 -1 -1 -1 -1  1  1 -1 -1 -1 -1 -1 -1 -1 -1  1 -1 -1  1 -1\n",
      " -1]\n"
     ]
    }
   ],
   "source": [
    "import numpy as np\n",
    "a = P3\n",
    "print(a)"
   ]
  },
  {
   "cell_type": "code",
   "execution_count": 39,
   "metadata": {
    "collapsed": true
   },
   "outputs": [],
   "source": [
    "dfTest['Prediction_degree3']=P3"
   ]
  },
  {
   "cell_type": "code",
   "execution_count": 40,
   "metadata": {
    "collapsed": true
   },
   "outputs": [],
   "source": [
    "writer=pd.ExcelWriter('predictions.xlsx',engine='xlsxwriter')"
   ]
  },
  {
   "cell_type": "code",
   "execution_count": 41,
   "metadata": {
    "collapsed": true
   },
   "outputs": [],
   "source": [
    "dfTest.to_excel(writer,'Sheet1')"
   ]
  },
  {
   "cell_type": "code",
   "execution_count": 42,
   "metadata": {
    "collapsed": true
   },
   "outputs": [],
   "source": [
    "writer.save()"
   ]
  },
  {
   "cell_type": "code",
   "execution_count": null,
   "metadata": {
    "collapsed": true
   },
   "outputs": [],
   "source": []
  }
 ],
 "metadata": {
  "kernelspec": {
   "display_name": "Python 2",
   "language": "python",
   "name": "python2"
  },
  "language_info": {
   "codemirror_mode": {
    "name": "ipython",
    "version": 2
   },
   "file_extension": ".py",
   "mimetype": "text/x-python",
   "name": "python",
   "nbconvert_exporter": "python",
   "pygments_lexer": "ipython2",
   "version": "2.7.13"
  }
 },
 "nbformat": 4,
 "nbformat_minor": 2
}
